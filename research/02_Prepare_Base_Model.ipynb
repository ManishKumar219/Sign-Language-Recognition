{
 "cells": [
  {
   "cell_type": "code",
   "execution_count": 1,
   "metadata": {},
   "outputs": [
    {
     "data": {
      "text/plain": [
       "'d:\\\\projects\\\\MLOps\\\\Sign-Language-Recognition\\\\research'"
      ]
     },
     "execution_count": 1,
     "metadata": {},
     "output_type": "execute_result"
    }
   ],
   "source": [
    "import os\n",
    "%pwd"
   ]
  },
  {
   "cell_type": "code",
   "execution_count": 2,
   "metadata": {},
   "outputs": [
    {
     "data": {
      "text/plain": [
       "'d:\\\\projects\\\\MLOps\\\\Sign-Language-Recognition'"
      ]
     },
     "execution_count": 2,
     "metadata": {},
     "output_type": "execute_result"
    }
   ],
   "source": [
    "os.chdir(\"../\")\n",
    "%pwd"
   ]
  },
  {
   "cell_type": "code",
   "execution_count": 11,
   "metadata": {},
   "outputs": [],
   "source": [
    "#Entity \n",
    "\n",
    "from dataclasses import dataclass\n",
    "from pathlib import Path\n",
    "\n",
    "@dataclass(frozen=True)\n",
    "class PrepareBaseModelConfig:\n",
    "    root_dir: Path\n",
    "    base_model_path: Path\n",
    "    updated_base_model_path: Path\n",
    "    input_shape: int\n",
    "    NumOfClasses: int\n",
    "    Conv1D_1: int\n",
    "    Dropout1: float\n",
    "    Conv1D_2: int\n",
    "    Dropout2: float\n",
    "    pool_size: int\n",
    "    Dense_layer: int"
   ]
  },
  {
   "cell_type": "code",
   "execution_count": 12,
   "metadata": {},
   "outputs": [],
   "source": [
    "from Sign_Language.constants import *\n",
    "from Sign_Language.utils.common import create_directories, read_yaml"
   ]
  },
  {
   "cell_type": "code",
   "execution_count": 19,
   "metadata": {},
   "outputs": [],
   "source": [
    "# Configuration Manager\n",
    "\n",
    "class ConfigurationManager:\n",
    "    def __init__(\n",
    "        self,\n",
    "        config_filepath = CONFIG_FILE_PATH,\n",
    "        params_filepath = PARAMS_FILE_PATH):\n",
    "\n",
    "        self.config = read_yaml(config_filepath)\n",
    "        self.params = read_yaml(params_filepath)\n",
    "\n",
    "        create_directories([self.config.artifacts_root])\n",
    "\n",
    "    def prepare_base_model_config(self) -> PrepareBaseModelConfig:\n",
    "        config = self.config.prepare_base_model\n",
    "        create_directories([config.root_dir])\n",
    "\n",
    "        params = self.params.baseModelParams\n",
    "\n",
    "\n",
    "        prepare_base_model_config = PrepareBaseModelConfig(\n",
    "            root_dir=Path(config.root_dir),\n",
    "            base_model_path=Path(config.base_model_path),\n",
    "            updated_base_model_path=Path(config.updated_base_model_path),\n",
    "           \n",
    "            NumOfClasses = params.NumOfClasses,\n",
    "            input_shape = params.input_shape,\n",
    "            Conv1D_1 = params.Conv1D_1,\n",
    "            Dropout1 = params.Dropout1,\n",
    "            Conv1D_2 = params.Conv1D_2,\n",
    "            Dropout2 = params.Dropout2,\n",
    "            pool_size = params.pool_size,\n",
    "            Dense_layer = params.Dense_layer\n",
    "        )\n",
    "\n",
    "        return prepare_base_model_config\n"
   ]
  },
  {
   "cell_type": "code",
   "execution_count": 15,
   "metadata": {},
   "outputs": [],
   "source": [
    "from Sign_Language import logger\n",
    "import tensorflow as tf\n",
    "from tensorflow.keras.models import Sequential\n",
    "from tensorflow.keras.layers import Conv1D, Dropout, MaxPooling1D, Flatten, Dense"
   ]
  },
  {
   "cell_type": "code",
   "execution_count": 24,
   "metadata": {},
   "outputs": [],
   "source": [
    "# #Component\n",
    "\n",
    "class PrepareModel:\n",
    "    def __init__(self, config: PrepareBaseModelConfig):\n",
    "        self.config = config\n",
    "\n",
    "    def create_model(self):\n",
    "        self.model = Sequential()\n",
    "\n",
    "        # ---------------------------------- CNN Model ---------------------------------- #\n",
    "        # Convolutional Layer 1\n",
    "        self.model.add(Conv1D(filters=self.config.Conv1D_1, kernel_size=3, activation='relu', input_shape=(self.config.input_shape, 1)))\n",
    "        self.model.add(Dropout(self.config.Dropout1))\n",
    "\n",
    "        # Convolutional Layer 2\n",
    "        self.model.add(Conv1D(filters=self.config.Conv1D_2, kernel_size=3, activation='relu'))\n",
    "        self.model.add(Dropout(self.config.Dropout2))\n",
    "\n",
    "        # Max Pooling Layer\n",
    "        self.model.add(MaxPooling1D(pool_size=2))\n",
    "\n",
    "        # Flatten Layer\n",
    "        self.model.add(Flatten())\n",
    "\n",
    "        # Fully Connected Layer 1\n",
    "        self.model.add(Dense(self.config.Dense_layer, activation='relu'))\n",
    "\n",
    "        # Fully Connected Layer 2\n",
    "        self.model.add(Dense(28, activation='softmax'))\n",
    "        # ---------------------------------------------------------------------------------- #\n",
    "\n",
    "        # Print model summary\n",
    "        self.model.summary()\n",
    "        # Compile model\n",
    "        # self.model.compile(loss='sparse_categorical_crossentropy', optimizer='adam', metrics=['accuracy'])\n",
    "\n",
    "        self.save_model(self.config.base_model_path, self.model)\n",
    "        logger.info(\"Created the Base Model:\")\n",
    "\n",
    "\n",
    "    \n",
    "    @staticmethod\n",
    "    def save_model(path: Path, model: tf.keras.Model):\n",
    "        model.save(path)\n",
    "\n"
   ]
  },
  {
   "cell_type": "code",
   "execution_count": 25,
   "metadata": {},
   "outputs": [
    {
     "name": "stdout",
     "output_type": "stream",
     "text": [
      "[2024-01-24 20:39:58,543: INFO: common: yaml file: config\\config.yaml loaded successfully]\n",
      "[2024-01-24 20:39:58,549: INFO: common: yaml file: params.yaml loaded successfully]\n",
      "[2024-01-24 20:39:58,553: INFO: common: created directory at: artifacts]\n",
      "[2024-01-24 20:39:58,556: INFO: common: created directory at: artifacts/prepare_base_model]\n"
     ]
    },
    {
     "name": "stdout",
     "output_type": "stream",
     "text": [
      "Model: \"sequential_2\"\n",
      "_________________________________________________________________\n",
      " Layer (type)                Output Shape              Param #   \n",
      "=================================================================\n",
      " conv1d_4 (Conv1D)           (None, 40, 64)            256       \n",
      "                                                                 \n",
      " dropout_4 (Dropout)         (None, 40, 64)            0         \n",
      "                                                                 \n",
      " conv1d_5 (Conv1D)           (None, 38, 128)           24704     \n",
      "                                                                 \n",
      " dropout_5 (Dropout)         (None, 38, 128)           0         \n",
      "                                                                 \n",
      " max_pooling1d_2 (MaxPoolin  (None, 19, 128)           0         \n",
      " g1D)                                                            \n",
      "                                                                 \n",
      " flatten_2 (Flatten)         (None, 2432)              0         \n",
      "                                                                 \n",
      " dense_4 (Dense)             (None, 94)                228702    \n",
      "                                                                 \n",
      " dense_5 (Dense)             (None, 28)                2660      \n",
      "                                                                 \n",
      "=================================================================\n",
      "Total params: 256322 (1001.26 KB)\n",
      "Trainable params: 256322 (1001.26 KB)\n",
      "Non-trainable params: 0 (0.00 Byte)\n",
      "_________________________________________________________________\n",
      "WARNING:tensorflow:Compiled the loaded model, but the compiled metrics have yet to be built. `model.compile_metrics` will be empty until you train or evaluate the model.\n",
      "[2024-01-24 20:39:59,066: INFO: 2183913422: Created the Base Model:]\n"
     ]
    }
   ],
   "source": [
    "try:\n",
    "    config = ConfigurationManager()\n",
    "    prepare_base_model_config = config.prepare_base_model_config()\n",
    "    prepare_base_model = PrepareModel(config=prepare_base_model_config)\n",
    "    prepare_base_model.create_model()\n",
    "except Exception as e:\n",
    "    raise e"
   ]
  },
  {
   "cell_type": "code",
   "execution_count": null,
   "metadata": {},
   "outputs": [],
   "source": []
  }
 ],
 "metadata": {
  "kernelspec": {
   "display_name": "aslenv",
   "language": "python",
   "name": "python3"
  },
  "language_info": {
   "codemirror_mode": {
    "name": "ipython",
    "version": 3
   },
   "file_extension": ".py",
   "mimetype": "text/x-python",
   "name": "python",
   "nbconvert_exporter": "python",
   "pygments_lexer": "ipython3",
   "version": "3.11.5"
  }
 },
 "nbformat": 4,
 "nbformat_minor": 2
}
